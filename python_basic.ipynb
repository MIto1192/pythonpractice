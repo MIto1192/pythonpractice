{
 "cells": [
  {
   "cell_type": "code",
   "execution_count": 81,
   "id": "22f1c28c",
   "metadata": {},
   "outputs": [],
   "source": [
    "import numpy as np"
   ]
  },
  {
   "cell_type": "code",
   "execution_count": null,
   "id": "c728adfa",
   "metadata": {},
   "outputs": [],
   "source": [
    "a = np.array((0, 1, 2),(3, 4, 5))"
   ]
  },
  {
   "cell_type": "code",
   "execution_count": null,
   "id": "253427ea",
   "metadata": {},
   "outputs": [],
   "source": [
    "a=np.array(((0, 1, 2),(3, 4, 5))"
   ]
  },
  {
   "cell_type": "code",
   "execution_count": 4,
   "id": "0bd9661e",
   "metadata": {},
   "outputs": [],
   "source": [
    "a = np.array(((0, 1, 2),(3, 4, 5)))　#array仕様の復習"
   ]
  },
  {
   "cell_type": "code",
   "execution_count": 6,
   "id": "a8bf11af",
   "metadata": {},
   "outputs": [
    {
     "name": "stdout",
     "output_type": "stream",
     "text": [
      "good morning\n"
     ]
    }
   ],
   "source": [
    "print(\"good morning\")"
   ]
  },
  {
   "cell_type": "code",
   "execution_count": 7,
   "id": "465bf5a7",
   "metadata": {},
   "outputs": [
    {
     "name": "stdout",
     "output_type": "stream",
     "text": [
      "(2, 3)\n"
     ]
    }
   ],
   "source": [
    "print (a.shape)"
   ]
  },
  {
   "cell_type": "code",
   "execution_count": 11,
   "id": "035d7bda",
   "metadata": {},
   "outputs": [],
   "source": [
    "b = np.array(((2, 2),\n",
    "             (3, 3),\n",
    "             (4, 4)))"
   ]
  },
  {
   "cell_type": "code",
   "execution_count": 12,
   "id": "2aefcb77",
   "metadata": {},
   "outputs": [
    {
     "name": "stdout",
     "output_type": "stream",
     "text": [
      "[[0 1 2]\n",
      " [3 4 5]]\n",
      "[[2 2]\n",
      " [3 3]\n",
      " [4 4]]\n"
     ]
    }
   ],
   "source": [
    "print(a)\n",
    "print(b)"
   ]
  },
  {
   "cell_type": "code",
   "execution_count": 13,
   "id": "a44cb824",
   "metadata": {},
   "outputs": [
    {
     "name": "stdout",
     "output_type": "stream",
     "text": [
      "[[11 11]\n",
      " [38 38]]\n"
     ]
    }
   ],
   "source": [
    "print(np.dot(a,b))　#配列計算復習"
   ]
  },
  {
   "cell_type": "code",
   "execution_count": 14,
   "id": "e5b9b30e",
   "metadata": {},
   "outputs": [
    {
     "name": "stdout",
     "output_type": "stream",
     "text": [
      "[[0 3]\n",
      " [1 4]\n",
      " [2 5]]\n"
     ]
    }
   ],
   "source": [
    "print(a.T)　#配置転換の復習"
   ]
  },
  {
   "cell_type": "code",
   "execution_count": 15,
   "id": "ced9d8a7",
   "metadata": {},
   "outputs": [],
   "source": [
    "import matplotlib.pyplot as plt"
   ]
  },
  {
   "cell_type": "code",
   "execution_count": 19,
   "id": "992a596b",
   "metadata": {},
   "outputs": [
    {
     "data": {
      "image/png": "[encoded data removed]",
      "text/plain": [
       "<Figure size 432x288 with 1 Axes>"
      ]
     },
     "metadata": {
      "needs_background": "light"
     },
     "output_type": "display_data"
    }
   ],
   "source": [
    "x = np.linspace(-5, 5)　#plot復習\n",
    "y = 2 * x\n",
    "plt.plot(x,y)\n",
    "plt.show()"
   ]
  },
  {
   "cell_type": "code",
   "execution_count": 44,
   "id": "cd7bf1b0",
   "metadata": {},
   "outputs": [
    {
     "name": "stdout",
     "output_type": "stream",
     "text": [
      "5\n"
     ]
    }
   ],
   "source": [
    "a = np.array((1, 2, 3, 4, 5, 6, 7))　#forとifの復習\n",
    "for a  in  range(6):  #使用時条件語尾の:に注意\n",
    "    if a == 5:\n",
    "        print(a) #ループの中では"
   ]
  },
  {
   "cell_type": "code",
   "execution_count": 47,
   "id": "97543f9e",
   "metadata": {},
   "outputs": [
    {
     "name": "stdout",
     "output_type": "stream",
     "text": [
      "1\n",
      "2\n",
      "3\n",
      "4\n",
      "5\n",
      "6\n",
      "7\n"
     ]
    }
   ],
   "source": [
    "a = np.array((1, 2, 3, 4, 5, 6, 7))\n",
    "for i in a:\n",
    "    print(i)"
   ]
  },
  {
   "cell_type": "code",
   "execution_count": 87,
   "id": "9f2af57f",
   "metadata": {},
   "outputs": [
    {
     "name": "stdout",
     "output_type": "stream",
     "text": [
      "0.006737946999085467\n",
      "0.9933071490757153\n",
      "0.0024787521766663585\n"
     ]
    }
   ],
   "source": [
    "a = np.exp(-5)  #ネイピア数復習\n",
    "b= a/np.exp(1)\n",
    "print(a)\n",
    "print(1/(1+a))\n",
    "print(b)"
   ]
  },
  {
   "cell_type": "code",
   "execution_count": 13,
   "id": "be8db83c",
   "metadata": {},
   "outputs": [],
   "source": [
    "import numpy as np\n",
    "b = np.arange(-1.0, 1.0, 0.2) #arange関数復習"
   ]
  },
  {
   "cell_type": "code",
   "execution_count": 14,
   "id": "a9ac58dd",
   "metadata": {},
   "outputs": [
    {
     "name": "stdout",
     "output_type": "stream",
     "text": [
      "[-1.00000000e+00 -8.00000000e-01 -6.00000000e-01 -4.00000000e-01\n",
      " -2.00000000e-01 -2.22044605e-16  2.00000000e-01  4.00000000e-01\n",
      "  6.00000000e-01  8.00000000e-01]\n"
     ]
    }
   ],
   "source": [
    "print(b)"
   ]
  },
  {
   "cell_type": "code",
   "execution_count": 16,
   "id": "700f7597",
   "metadata": {},
   "outputs": [],
   "source": [
    "x = np.array((30,34,36,42))"
   ]
  },
  {
   "cell_type": "code",
   "execution_count": 20,
   "id": "44a9f446",
   "metadata": {},
   "outputs": [
    {
     "name": "stdout",
     "output_type": "stream",
     "text": [
      "35.5\n"
     ]
    }
   ],
   "source": [
    "av = np.average(x) #average復習\n",
    "print(av)"
   ]
  },
  {
   "cell_type": "code",
   "execution_count": 21,
   "id": "45ec972c",
   "metadata": {},
   "outputs": [
    {
     "name": "stdout",
     "output_type": "stream",
     "text": [
      "-0.40000000000000013\n"
     ]
    }
   ],
   "source": [
    "print(b[3])"
   ]
  },
  {
   "cell_type": "code",
   "execution_count": 29,
   "id": "8fbb24b2",
   "metadata": {},
   "outputs": [],
   "source": [
    "k = np.array([[0, 1, 2],[3, 4, 5]])"
   ]
  },
  {
   "cell_type": "code",
   "execution_count": 37,
   "id": "ee4c6d1e",
   "metadata": {},
   "outputs": [
    {
     "name": "stdout",
     "output_type": "stream",
     "text": [
      "0\n",
      "1\n",
      "2\n",
      "3\n",
      "4\n",
      "5\n"
     ]
    }
   ],
   "source": [
    "for a in  range(2): #要素へのアクセス復習\n",
    "    for b in  range(3):\n",
    "        print(k[a][b])"
   ]
  },
  {
   "cell_type": "code",
   "execution_count": 40,
   "id": "cf6c2226",
   "metadata": {},
   "outputs": [
    {
     "name": "stdout",
     "output_type": "stream",
     "text": [
      "18.75\n"
     ]
    }
   ],
   "source": [
    "print(np.var(x)) #分散復習"
   ]
  },
  {
   "cell_type": "code",
   "execution_count": 43,
   "id": "4fab189e",
   "metadata": {},
   "outputs": [
    {
     "name": "stdout",
     "output_type": "stream",
     "text": [
      "4.330127018922194\n"
     ]
    }
   ],
   "source": [
    "print(np.std(x)) #標準偏差復習"
   ]
  },
  {
   "cell_type": "code",
   "execution_count": 50,
   "id": "5abe8e76",
   "metadata": {},
   "outputs": [
    {
     "data": {
      "image/png": "[encoded data removed]",
      "text/plain": [
       "<Figure size 432x288 with 1 Axes>"
      ]
     },
     "metadata": {
      "needs_background": "light"
     },
     "output_type": "display_data"
    }
   ],
   "source": [
    "import matplotlib.pyplot as plt #正規分布復習\n",
    "sigma = 1 #標準偏差\n",
    "mv = 0    #平均値\n",
    "x = np.linspace(-5,5)\n",
    "y = 1/(sigma*np.sqrt(2*np.pi))*np.exp(-(x-mv)**2/(2*sigma**2))\n",
    "plt.plot(x,y)\n",
    "plt.show()"
   ]
  },
  {
   "cell_type": "code",
   "execution_count": 54,
   "id": "28198e83",
   "metadata": {},
   "outputs": [],
   "source": [
    "class Calc:  #クラス復習 頭文字大文字 selfは自分自身に反映\n",
    "    def __init__(self,a):\n",
    "        self.a = a\n",
    "        \n",
    "    def add(self,b):\n",
    "        print(self.a + b)"
   ]
  },
  {
   "cell_type": "code",
   "execution_count": 57,
   "id": "ee302068",
   "metadata": {},
   "outputs": [
    {
     "name": "stdout",
     "output_type": "stream",
     "text": [
      "9\n"
     ]
    }
   ],
   "source": [
    "calc = Calc(5)\n",
    "calc.add(4)"
   ]
  },
  {
   "cell_type": "code",
   "execution_count": 59,
   "id": "9c04f5b6",
   "metadata": {},
   "outputs": [],
   "source": [
    "class CalcPlus(Calc):  #クラス継承復習 \n",
    "        \n",
    "    def divide(self,b):\n",
    "        print(self.a / b)"
   ]
  },
  {
   "cell_type": "code",
   "execution_count": 62,
   "id": "5707ec20",
   "metadata": {},
   "outputs": [
    {
     "name": "stdout",
     "output_type": "stream",
     "text": [
      "2.0\n"
     ]
    }
   ],
   "source": [
    "calc_plus = CalcPlus(6)\n",
    "calc_plus.divide(3)"
   ]
  },
  {
   "cell_type": "code",
   "execution_count": 65,
   "id": "2b31f484",
   "metadata": {},
   "outputs": [
    {
     "data": {
      "image/png": "[encoded data removed]",
      "text/plain": [
       "<Figure size 432x288 with 1 Axes>"
      ]
     },
     "metadata": {
      "needs_background": "light"
     },
     "output_type": "display_data"
    }
   ],
   "source": [
    "def step_function(x): #step関数復習 \n",
    "    return np.where(x<=0,0,1)  #where関数使用\n",
    "\n",
    "x = np.linspace(-5,5)\n",
    "y = step_function(x)\n",
    "\n",
    "plt.plot(x,y)\n",
    "plt.show()"
   ]
  },
  {
   "cell_type": "code",
   "execution_count": 68,
   "id": "29ed171f",
   "metadata": {},
   "outputs": [
    {
     "data": {
      "image/png": "[encoded data removed]",
      "text/plain": [
       "<Figure size 432x288 with 1 Axes>"
      ]
     },
     "metadata": {
      "needs_background": "light"
     },
     "output_type": "display_data"
    }
   ],
   "source": [
    "def sigmoid_function(x): #シグモイド関数\n",
    "    return 1/(1+np.exp(-x))\n",
    "x = np.linspace(-5,5)\n",
    "y = sigmoid_function(x)\n",
    "\n",
    "plt.plot(x,y)\n",
    "plt.show()"
   ]
  },
  {
   "cell_type": "code",
   "execution_count": 90,
   "id": "a8c0c084",
   "metadata": {},
   "outputs": [
    {
     "name": "stdout",
     "output_type": "stream",
     "text": [
      "-5.4\n",
      "-4.800000000000001\n",
      "-4.200000000000001\n",
      "-3.6\n",
      "-3.0000000000000004\n",
      "-2.400000000000001\n",
      "-1.8000000000000007\n",
      "-1.2000000000000008\n",
      "-0.6000000000000011\n",
      "-1.4155343563970746e-15\n",
      "-4.9\n",
      "-4.300000000000001\n",
      "-3.7\n",
      "-3.1\n",
      "-2.5000000000000004\n",
      "-1.9000000000000008\n",
      "-1.3000000000000007\n",
      "-0.700000000000001\n",
      "-0.10000000000000106\n",
      "0.49999999999999856\n",
      "-4.4\n",
      "-3.8000000000000003\n",
      "-3.2000000000000006\n",
      "-2.6000000000000005\n",
      "-2.0000000000000004\n",
      "-1.4000000000000008\n",
      "-0.800000000000001\n",
      "-0.20000000000000115\n",
      "0.3999999999999987\n",
      "0.9999999999999983\n",
      "-3.9\n",
      "-3.3000000000000007\n",
      "-2.7000000000000006\n",
      "-2.100000000000001\n",
      "-1.5000000000000009\n",
      "-0.9000000000000011\n",
      "-0.30000000000000127\n",
      "0.2999999999999986\n",
      "0.8999999999999985\n",
      "1.4999999999999982\n",
      "-3.4000000000000004\n",
      "-2.8000000000000007\n",
      "-2.2000000000000006\n",
      "-1.6000000000000008\n",
      "-1.0000000000000009\n",
      "-0.40000000000000113\n",
      "0.19999999999999876\n",
      "0.7999999999999986\n",
      "1.3999999999999986\n",
      "1.9999999999999982\n",
      "-2.9000000000000004\n",
      "-2.3000000000000007\n",
      "-1.7000000000000006\n",
      "-1.100000000000001\n",
      "-0.5000000000000011\n",
      "0.09999999999999878\n",
      "0.6999999999999986\n",
      "1.2999999999999985\n",
      "1.8999999999999986\n",
      "2.4999999999999982\n",
      "-2.400000000000001\n",
      "-1.800000000000001\n",
      "-1.2000000000000008\n",
      "-0.6000000000000011\n",
      "-1.1934897514720433e-15\n",
      "0.5999999999999986\n",
      "1.1999999999999986\n",
      "1.7999999999999985\n",
      "2.399999999999998\n",
      "2.999999999999998\n",
      "-1.9000000000000008\n",
      "-1.3000000000000012\n",
      "-0.7000000000000011\n",
      "-0.10000000000000117\n",
      "0.49999999999999867\n",
      "1.0999999999999985\n",
      "1.6999999999999984\n",
      "2.2999999999999985\n",
      "2.899999999999998\n",
      "3.499999999999998\n",
      "-1.4000000000000008\n",
      "-0.8000000000000013\n",
      "-0.20000000000000115\n",
      "0.3999999999999987\n",
      "0.9999999999999986\n",
      "1.5999999999999985\n",
      "2.1999999999999984\n",
      "2.7999999999999985\n",
      "3.399999999999998\n",
      "3.999999999999998\n",
      "-0.9000000000000009\n",
      "-0.30000000000000127\n",
      "0.2999999999999988\n",
      "0.8999999999999987\n",
      "1.4999999999999987\n",
      "2.0999999999999983\n",
      "2.6999999999999984\n",
      "3.2999999999999985\n",
      "3.899999999999998\n",
      "4.499999999999997\n"
     ]
    }
   ],
   "source": [
    "# 単一ニューロン実装時の値の確認\n",
    "# x、y座標\n",
    "X = np.arange(-1.0, 1.0, 0.2)  # 要素数は10個\n",
    "Y = np.arange(-1.0, 1.0, 0.2)\n",
    "\n",
    "# 出力を格納する10x10のグリッド\n",
    "Z = np.zeros((10,10))\n",
    "\n",
    "# x、y座標の入力の重み\n",
    "w_x = 2.5\n",
    "w_y = 3.0\n",
    "\n",
    "# バイアス\n",
    "bias = 0.1\n",
    "\n",
    "# グリッドの各マスでニューロンの演算 Xパターン10×Yパターン10通りの出力を格納\n",
    "for i in range(10):\n",
    "    for j in range(10):\n",
    "        \n",
    "        # 入力と重みの積の総和 + バイアス\n",
    "        u = X[i]*w_x + Y[j]*w_y + bias\n",
    "        print(u)\n",
    "        \n",
    "        # グリッドに出力を格納\n",
    "        y = 1/(1+np.exp(-u)) # シグモイド関数\n",
    "        Z[j][i] = y\n",
    "#        print(y)\n"
   ]
  },
  {
   "cell_type": "code",
   "execution_count": 95,
   "id": "6fe671fc",
   "metadata": {},
   "outputs": [
    {
     "name": "stdout",
     "output_type": "stream",
     "text": [
      "[6.69285092e-03 1.67014218e-05]\n",
      "[1.47740317e-02 3.71689371e-05]\n",
      "[3.22954647e-02 8.27172229e-05]\n",
      "[0.06913842 0.00018407]\n",
      "[0.14185106 0.00040957]\n",
      "[0.26894142 0.00091105]\n",
      "[0.450166   0.00202532]\n",
      "[0.64565631 0.00449627]\n",
      "[0.80218389 0.0099518 ]\n",
      "[0.90024951 0.02188127]\n",
      "[1.47740317e-02 3.71689371e-05]\n",
      "[3.22954647e-02 8.27172229e-05]\n",
      "[0.06913842 0.00018407]\n",
      "[0.14185106 0.00040957]\n",
      "[0.26894142 0.00091105]\n",
      "[0.450166   0.00202532]\n",
      "[0.64565631 0.00449627]\n",
      "[0.80218389 0.0099518 ]\n",
      "[0.90024951 0.02188127]\n",
      "[0.95257413 0.04742587]\n",
      "[3.22954647e-02 8.27172229e-05]\n",
      "[0.06913842 0.00018407]\n",
      "[0.14185106 0.00040957]\n",
      "[0.26894142 0.00091105]\n",
      "[0.450166   0.00202532]\n",
      "[0.64565631 0.00449627]\n",
      "[0.80218389 0.0099518 ]\n",
      "[0.90024951 0.02188127]\n",
      "[0.95257413 0.04742587]\n",
      "[0.97811873 0.09975049]\n",
      "[0.06913842 0.00018407]\n",
      "[0.14185106 0.00040957]\n",
      "[0.26894142 0.00091105]\n",
      "[0.450166   0.00202532]\n",
      "[0.64565631 0.00449627]\n",
      "[0.80218389 0.0099518 ]\n",
      "[0.90024951 0.02188127]\n",
      "[0.95257413 0.04742587]\n",
      "[0.97811873 0.09975049]\n",
      "[0.9900482  0.19781611]\n",
      "[0.14185106 0.00040957]\n",
      "[0.26894142 0.00091105]\n",
      "[0.450166   0.00202532]\n",
      "[0.64565631 0.00449627]\n",
      "[0.80218389 0.0099518 ]\n",
      "[0.90024951 0.02188127]\n",
      "[0.95257413 0.04742587]\n",
      "[0.97811873 0.09975049]\n",
      "[0.9900482  0.19781611]\n",
      "[0.99550373 0.35434369]\n",
      "[0.26894142 0.00091105]\n",
      "[0.450166   0.00202532]\n",
      "[0.64565631 0.00449627]\n",
      "[0.80218389 0.0099518 ]\n",
      "[0.90024951 0.02188127]\n",
      "[0.95257413 0.04742587]\n",
      "[0.97811873 0.09975049]\n",
      "[0.9900482  0.19781611]\n",
      "[0.99550373 0.35434369]\n",
      "[0.99797468 0.549834  ]\n",
      "[0.450166   0.00202532]\n",
      "[0.64565631 0.00449627]\n",
      "[0.80218389 0.0099518 ]\n",
      "[0.90024951 0.02188127]\n",
      "[0.95257413 0.04742587]\n",
      "[0.97811873 0.09975049]\n",
      "[0.9900482  0.19781611]\n",
      "[0.99550373 0.35434369]\n",
      "[0.99797468 0.549834  ]\n",
      "[0.99908895 0.73105858]\n",
      "[0.64565631 0.00449627]\n",
      "[0.80218389 0.0099518 ]\n",
      "[0.90024951 0.02188127]\n",
      "[0.95257413 0.04742587]\n",
      "[0.97811873 0.09975049]\n",
      "[0.9900482  0.19781611]\n",
      "[0.99550373 0.35434369]\n",
      "[0.99797468 0.549834  ]\n",
      "[0.99908895 0.73105858]\n",
      "[0.99959043 0.85814894]\n",
      "[0.80218389 0.0099518 ]\n",
      "[0.90024951 0.02188127]\n",
      "[0.95257413 0.04742587]\n",
      "[0.97811873 0.09975049]\n",
      "[0.9900482  0.19781611]\n",
      "[0.99550373 0.35434369]\n",
      "[0.99797468 0.549834  ]\n",
      "[0.99908895 0.73105858]\n",
      "[0.99959043 0.85814894]\n",
      "[0.99981593 0.93086158]\n",
      "[0.90024951 0.02188127]\n",
      "[0.95257413 0.04742587]\n",
      "[0.97811873 0.09975049]\n",
      "[0.9900482  0.19781611]\n",
      "[0.99550373 0.35434369]\n",
      "[0.99797468 0.549834  ]\n",
      "[0.99908895 0.73105858]\n",
      "[0.99959043 0.85814894]\n",
      "[0.99981593 0.93086158]\n",
      "[0.99991728 0.96770454]\n"
     ]
    },
    {
     "data": {
      "image/png": "[encoded data removed]",
      "text/plain": [
       "<Figure size 432x288 with 2 Axes>"
      ]
     },
     "metadata": {
      "needs_background": "light"
     },
     "output_type": "display_data"
    }
   ],
   "source": [
    "import numpy as np\n",
    "import matplotlib.pyplot as plt\n",
    "# ニューラルネットワーク回帰の実装 シグモイドの配列内容確認\n",
    "# x、y座標\n",
    "X = np.arange(-1.0, 1.0, 0.2)  # 要素数は10個\n",
    "Y = np.arange(-1.0, 1.0, 0.2)\n",
    "\n",
    "# 出力を格納する10x10のグリッド\n",
    "Z = np.zeros((10,10))\n",
    "\n",
    "# 重み\n",
    "w_im = np.array([[4.0,4.0],\n",
    "                 [4.0,4.0]])  # 中間層 2x2の行列\n",
    "w_mo = np.array([[1.0],\n",
    "                 [-1.0]])     # 出力層 2x1の行列\n",
    "\n",
    "# バイアス\n",
    "b_im = np.array([3.0,-3.0]) # 中間層\n",
    "b_mo = np.array([0.1])      # 出力層 \n",
    "\n",
    "# 中間層\n",
    "def middle_layer(x, w, b):\n",
    "    u = np.dot(x, w) + b\n",
    "    return 1/(1+np.exp(-u)) # シグモイド関数\n",
    "\n",
    "# 出力層\n",
    "def output_layer(x, w, b):\n",
    "    u = np.dot(x, w) + b\n",
    "    return u  # 恒等関数\n",
    "\n",
    "# グリッドの各マスでニューラルネットワークの演算\n",
    "for i in range(10):\n",
    "    for j in range(10):\n",
    "        \n",
    "        # 順伝播\n",
    "        inp = np.array([X[i], Y[j]])        # 入力層\n",
    "        mid = middle_layer(inp, w_im, b_im) # 中間層\n",
    "        print(mid)\n",
    "        out = output_layer(mid, w_mo, b_mo) # 出力層\n",
    "        \n",
    "        # グリッドにNNの出力を格納\n",
    "        Z[j][i] = out[0]\n",
    "\n",
    "# グリッドの表示\n",
    "plt.imshow(Z, \"gray\", vmin = 0.0, vmax = 1.0)\n",
    "plt.colorbar()  \n",
    "plt.show()"
   ]
  }
 ],
 "metadata": {
  "kernelspec": {
   "display_name": "Python 3 (ipykernel)",
   "language": "python",
   "name": "python3"
  },
  "language_info": {
   "codemirror_mode": {
    "name": "ipython",
    "version": 3
   },
   "file_extension": ".py",
   "mimetype": "text/x-python",
   "name": "python",
   "nbconvert_exporter": "python",
   "pygments_lexer": "ipython3",
   "version": "3.7.11"
  }
 },
 "nbformat": 4,
 "nbformat_minor": 5
}
